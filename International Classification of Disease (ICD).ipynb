{
 "cells": [
  {
   "cell_type": "markdown",
   "metadata": {
    "slideshow": {
     "slide_type": "slide"
    }
   },
   "source": [
    "# International Classification of Disease (ICD)"
   ]
  },
  {
   "cell_type": "markdown",
   "metadata": {
    "slideshow": {
     "slide_type": "fragment"
    }
   },
   "source": [
    " * In order to make sense of healthcare data, it is imperative to understand ICD codes\n",
    " * ICD codes are used to classify diseases for billing and statistical purposes\n",
    " * There are many different versions of ICD and they are constantly changing"
   ]
  },
  {
   "cell_type": "markdown",
   "metadata": {
    "slideshow": {
     "slide_type": "slide"
    }
   },
   "source": [
    "# A Brief History"
   ]
  },
  {
   "cell_type": "markdown",
   "metadata": {
    "slideshow": {
     "slide_type": "subslide"
    }
   },
   "source": [
    "Early Work in classifying disease (fairly crude and focused on mortality):\n",
    " + François Bossier de Lacroix (Early 1700s) *Nosologia methodica*\n",
    " + Linnaeus (1707-1778) *Genera morborum*\n",
    " + Cullen (1785) *Synopsis nosologiae methodicae* "
   ]
  },
  {
   "cell_type": "markdown",
   "metadata": {
    "slideshow": {
     "slide_type": "subslide"
    }
   },
   "source": [
    "International Statistical Congress (mid-1800s)\n",
    "   + William Farr's method of classifying disease: \n",
    "    - epidemic diseases\n",
    "    - constitutional(general) diseases\n",
    "    - local diseases arranged according to anatomical site\n",
    "    - developmental diseases\n",
    "    - diseases that are the direct result of violence."
   ]
  },
  {
   "cell_type": "markdown",
   "metadata": {
    "slideshow": {
     "slide_type": "subslide"
    }
   },
   "source": [
    "## Late 1800s-early 1900s\n",
    "The International Statistical Institute, under Jacques \n",
    "Bertillon (1851-1922), created the Bertillon Classification of Causes of\n",
    " Death, which became used across the world and was revised many times in the following years"
   ]
  },
  {
   "cell_type": "markdown",
   "metadata": {
    "slideshow": {
     "slide_type": "fragment"
    }
   },
   "source": [
    "## 1946 "
   ]
  },
  {
   "cell_type": "markdown",
   "metadata": {
    "slideshow": {
     "slide_type": "fragment"
    }
   },
   "source": [
    "In 1946, the World Health Organization took charge of classification of *causes of death*. This was the precursor to the modern-day ICD classification system. Today, the World Health Organization is still responsible for changes to ICD."
   ]
  },
  {
   "cell_type": "markdown",
   "metadata": {
    "slideshow": {
     "slide_type": "slide"
    }
   },
   "source": [
    "# Modern ICD"
   ]
  },
  {
   "cell_type": "markdown",
   "metadata": {
    "slideshow": {
     "slide_type": "fragment"
    }
   },
   "source": [
    "## ICD-9-CM\n",
    "\n",
    " * ICD-9 and ICD-10 are the two modern systems for classifying diseases\n",
    " * When a \"CM\" is appended to the end of the coding system, it stands for *clinical modification*\n",
    " * Clinical modifications are made in order to make the coding system be useful for more than just causes of death \n",
    " * Over 13,000 codes"
   ]
  },
  {
   "cell_type": "markdown",
   "metadata": {
    "slideshow": {
     "slide_type": "fragment"
    }
   },
   "source": [
    " * 3-5 digit alphanumeric code\n",
    " * First digit is either E, V, or a number\n",
    " * digits 2-5 are numbers"
   ]
  },
  {
   "cell_type": "markdown",
   "metadata": {
    "slideshow": {
     "slide_type": "subslide"
    }
   },
   "source": [
    "# Examples\n",
    "\n",
    "![](./assets/icd9_examples.png)"
   ]
  },
  {
   "cell_type": "markdown",
   "metadata": {
    "slideshow": {
     "slide_type": "slide"
    }
   },
   "source": [
    "# ICD-10-CM\n",
    " * Over 68,000 codes\n",
    " * Includes laterality and allows room for more detail"
   ]
  },
  {
   "cell_type": "markdown",
   "metadata": {
    "slideshow": {
     "slide_type": "subslide"
    }
   },
   "source": [
    "## Really... more detail\n",
    "Example codes:\n",
    " * W61.12XA: Struck by macaw, initial encounter.\n",
    " * V95.43XS: Spacecraft collision injuring occupant, sequela.\n",
    " * V91.07XD: Burn due to water-skis on fire, subsequent encounter.\n",
    " * Z63.1: Problems in relationship with in-laws. \n",
    " "
   ]
  },
  {
   "cell_type": "markdown",
   "metadata": {
    "slideshow": {
     "slide_type": "subslide"
    }
   },
   "source": [
    "![](./assets/struck_by_orca.png)"
   ]
  },
  {
   "cell_type": "markdown",
   "metadata": {
    "slideshow": {
     "slide_type": "slide"
    }
   },
   "source": [
    "## Differences between ICD-9 and ICD-10\n",
    "\n",
    "![](./assets/table1_1.png)\n",
    "![](./assets/table1_2.png)"
   ]
  },
  {
   "cell_type": "markdown",
   "metadata": {
    "slideshow": {
     "slide_type": "slide"
    }
   },
   "source": [
    "# Two major problems for Data Science\n",
    "\n",
    " * Conversion\n",
    "  - In October 2015, all health systems in the United States switched from ICD-9 to ICD-10\n",
    " * Granularity\n",
    "  - Too many sparse features"
   ]
  },
  {
   "cell_type": "markdown",
   "metadata": {
    "slideshow": {
     "slide_type": "slide"
    }
   },
   "source": [
    "## Direct Conversion\n",
    "  * General Equivalence Mappings: \n",
    "      - Flag system\n",
    "      - Inherently approximate: many to many, zero to many, one to many relationships"
   ]
  },
  {
   "cell_type": "markdown",
   "metadata": {
    "slideshow": {
     "slide_type": "fragment"
    }
   },
   "source": [
    "![](./assets/GEM_example.png)"
   ]
  },
  {
   "cell_type": "markdown",
   "metadata": {
    "slideshow": {
     "slide_type": "slide"
    }
   },
   "source": [
    "## Other mapping systems\n",
    " * Using grouping systems that have features mapped in both ICD-9 and ICD-10\n",
    "     - Elixhauser (1998) groups ICD-9 codes into 30 Comorbidity Groups (e.g. Diabetes, Congestive Heart Failure, etc.)\n",
    "         - later extended to include ICD-10\n",
    "         - Not mutually exhaustive\n",
    "     - HCUP AHRQ Single-level CCS (Clinical Classification System) groups (285 groups)\n",
    "     - Multi-level CCS"
   ]
  },
  {
   "cell_type": "markdown",
   "metadata": {
    "slideshow": {
     "slide_type": "slide"
    }
   },
   "source": [
    "# Resources\n",
    "\n",
    "History of Disease Classification: [https://www.who.int/classifications/icd/en/HistoryOfICD.pdf](https://www.who.int/classifications/icd/en/HistoryOfICD.pdf)\n",
    "\n",
    "Differences between ICD-9 and ICD-10: [https://www.unitypoint.org/waterloo/filesimages/for%20providers/icd9-icd10-differences.pdf](https://www.unitypoint.org/waterloo/filesimages/for%20providers/icd9-icd10-differences.pdf)\n",
    "\n",
    "Struck by Orca: [https://www.icd10illustrated.com/](https://www.icd10illustrated.com/)\n",
    "\n",
    "Elixhauser(1998): [Comorbidity \n",
    "Measures \n",
    "for \n",
    "Use \n",
    "with \n",
    "Administrative \n",
    "Data](https://pdfs.semanticscholar.org/330f/dfb4bef1682723fdfc266cacc01d06d2da82.pdf)\n",
    "\n",
    "General Equivalence Mappings: [https://www.asco.org/practice-guidelines/billing-coding-reporting/icd-10/general-equivalence-mappings-gems](https://www.asco.org/practice-guidelines/billing-coding-reporting/icd-10/general-equivalence-mappings-gems)\n",
    "\n",
    "HCUP AHRQ Resources: [https://www.hcup-us.ahrq.gov/toolssoftware/ccs/ccsfactsheet.jsp](https://www.hcup-us.ahrq.gov/toolssoftware/ccs/ccsfactsheet.jsp)"
   ]
  }
 ],
 "metadata": {
  "celltoolbar": "Slideshow",
  "kernelspec": {
   "display_name": "Python 3",
   "language": "python",
   "name": "python3"
  },
  "language_info": {
   "codemirror_mode": {
    "name": "ipython",
    "version": 3
   },
   "file_extension": ".py",
   "mimetype": "text/x-python",
   "name": "python",
   "nbconvert_exporter": "python",
   "pygments_lexer": "ipython3",
   "version": "3.7.0"
  }
 },
 "nbformat": 4,
 "nbformat_minor": 2
}
